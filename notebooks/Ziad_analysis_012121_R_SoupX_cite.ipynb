{
 "cells": [
  {
   "cell_type": "code",
   "execution_count": 1,
   "metadata": {},
   "outputs": [],
   "source": [
    "setwd('/lustre/scratch117/cellgen/team297/kt16/Ziad/raw/Trans')"
   ]
  },
  {
   "cell_type": "code",
   "execution_count": 2,
   "metadata": {},
   "outputs": [],
   "source": [
    "library(SoupX)\n",
    "library(Seurat)\n",
    "library(Matrix)\n",
    "library(reticulate)\n",
    "scp = import(\"scanpy\")\n",
    "sp = import(\"scipy.sparse\")"
   ]
  },
  {
   "cell_type": "code",
   "execution_count": 3,
   "metadata": {
    "scrolled": true
   },
   "outputs": [],
   "source": [
    "# run soupx on transcriptome data\n",
    "soupx <- function(dataDirs){\n",
    "    print(dataDirs)\n",
    "    # generate clusters\n",
    "    dat <- Read10X(paste0(dataDirs, '/filtered_feature_bc_matrix/'))\n",
    "    raw <- Read10X(paste0(dataDirs, '/raw_feature_bc_matrix/'))\n",
    "    seu <- CreateSeuratObject(counts = dat$`Gene Expression`)\n",
    "    seu[[\"percent_mt\"]] <- PercentageFeatureSet(seu, pattern = \"^MT-\")\n",
    "    seu <- NormalizeData(seu, verbose = FALSE)\n",
    "    seu <- FindVariableFeatures(seu, verbose = FALSE)\n",
    "    seu <- ScaleData(seu, vars.to.regress = c(\"percent_mt\", 'nCount_RNA'), verbose = FALSE)\n",
    "    seu <- RunPCA(seu, features = VariableFeatures(object = seu), verbose = FALSE)\n",
    "    seu <- FindNeighbors(seu, verbose = FALSE)\n",
    "    seu <- FindClusters(seu, algorithm = 4, verbose = FALSE)\n",
    "    clusters <- Idents(seu)\n",
    "    # run soupx\n",
    "    sc <- load10X(dataDirs)\t\n",
    "    sc <- setClusters(sc, clusters)\n",
    "    sc = autoEstCont(sc, doPlot = FALSE)\n",
    "    out = adjustCounts(sc)\n",
    "    colnames(out) <- paste0(dataDirs, '_', colnames(out))\n",
    "    # correct ADT data too\n",
    "    sc2 <- SoupChannel(raw$`Antibody Capture`, dat$`Antibody Capture`)\n",
    "    sc2 <- setClusters(sc2, clusters)\n",
    "    useToEst = estimateNonExpressingCells(sc2, nonExpressedGeneList = list(c('CD25+prot', 'PD1_prot')))\n",
    "    sc2 = calculateContaminationFraction(sc2, list(c('CD25+prot','PD1_prot')), useToEst, forceAccept = TRUE)\n",
    "    out2 = adjustCounts(sc2)    \n",
    "    # combine the new matrices\n",
    "    newx = sp$hstack(c(t(out), t(out2)), format = 'csr')\n",
    "    adata = scp$read_10x_mtx(paste0(dataDirs, '/filtered_feature_bc_matrix'), gex_only = FALSE)\n",
    "    adata$X = newx\n",
    "    # save as a .h5ad file\n",
    "    adata$write(paste0(dataDirs, '/adata_soupx_trans_cite.h5ad'), compression = 'gzip')\n",
    "\n",
    "    # also create a version where only the soupx trans is appended to the original cite counts.\n",
    "    newx = sp$hstack(c(t(out), t(dat$`Antibody Capture`)), format = 'csr')\n",
    "    adata = scp$read_10x_mtx(paste0(dataDirs, '/filtered_feature_bc_matrix'), gex_only = FALSE)\n",
    "    adata$X = newx\n",
    "    # save as a .h5ad file\n",
    "    adata$write(paste0(dataDirs, '/adata_soupx_trans.h5ad'), compression = 'gzip')\n",
    "    \n",
    "    # and a version using Mike's method\n",
    "    # read in corrected ADT data\n",
    "    cite <- read.delim(paste0(dataDirs, '/ADT_', dataDirs, '_bgCPM.txt.gz'), check.names = FALSE)\n",
    "    cite <- tibble::column_to_rownames(cite, var = \"ADT\")\n",
    "    cite <- Matrix::Matrix(as.matrix(cite), sparse = TRUE)\n",
    "    # combine the new matrices\n",
    "    newx = sp$hstack(c(t(out), t(cite)), format = 'csr')\n",
    "    adata = scp$read_10x_mtx(paste0(dataDirs, '/filtered_feature_bc_matrix'), gex_only = FALSE)\n",
    "    adata$X = newx\n",
    "    # save as a .h5ad file\n",
    "    adata$write(paste0(dataDirs, '/adata_soupx_trans_cite_bgshift.h5ad'), compression = 'gzip')\n",
    "}"
   ]
  },
  {
   "cell_type": "code",
   "execution_count": 4,
   "metadata": {},
   "outputs": [],
   "source": [
    "files = paste0('Sample_Fq', 1:32)\n",
    "files <- files[-15]"
   ]
  },
  {
   "cell_type": "code",
   "execution_count": 5,
   "metadata": {},
   "outputs": [
    {
     "name": "stdout",
     "output_type": "stream",
     "text": [
      "[1] \"Sample_Fq1\"\n"
     ]
    },
    {
     "name": "stderr",
     "output_type": "stream",
     "text": [
      "10X data contains more than one type and is being returned as a list containing matrices of each type.\n",
      "\n",
      "10X data contains more than one type and is being returned as a list containing matrices of each type.\n",
      "\n",
      "Loading raw count data\n",
      "\n",
      "10X data contains more than one type and is being returned as a list containing matrices of each type.\n",
      "\n",
      "Loading cell-only count data\n",
      "\n",
      "10X data contains more than one type and is being returned as a list containing matrices of each type.\n",
      "\n",
      "Loading extra analysis data where available\n",
      "\n",
      "1170 genes passed tf-idf cut-off and 480 soup quantile filter.  Taking the top 100.\n",
      "\n",
      "Using 1576 independent estimates of rho.\n",
      "\n",
      "Estimated global rho of 0.01\n",
      "\n",
      "Expanding counts from 21 clusters to 11651 cells.\n",
      "\n",
      "Extremely high contamination estimated (0.72).  This likely represents a failure in estimating the contamination fraction.  Set forceAccept=TRUE to proceed with this value.\n",
      "\n",
      "Estimated global contamination fraction of 72.33%\n",
      "\n",
      "Expanding counts from 21 clusters to 11651 cells.\n",
      "\n"
     ]
    },
    {
     "name": "stdout",
     "output_type": "stream",
     "text": [
      "[1] \"Sample_Fq2\"\n"
     ]
    },
    {
     "name": "stderr",
     "output_type": "stream",
     "text": [
      "10X data contains more than one type and is being returned as a list containing matrices of each type.\n",
      "\n",
      "10X data contains more than one type and is being returned as a list containing matrices of each type.\n",
      "\n",
      "Loading raw count data\n",
      "\n",
      "10X data contains more than one type and is being returned as a list containing matrices of each type.\n",
      "\n",
      "Loading cell-only count data\n",
      "\n",
      "10X data contains more than one type and is being returned as a list containing matrices of each type.\n",
      "\n",
      "Loading extra analysis data where available\n",
      "\n",
      "2331 genes passed tf-idf cut-off and 935 soup quantile filter.  Taking the top 100.\n",
      "\n",
      "Using 1817 independent estimates of rho.\n",
      "\n",
      "Estimated global rho of 0.01\n",
      "\n",
      "Expanding counts from 22 clusters to 6908 cells.\n",
      "\n",
      "Extremely high contamination estimated (0.73).  This likely represents a failure in estimating the contamination fraction.  Set forceAccept=TRUE to proceed with this value.\n",
      "\n",
      "Estimated global contamination fraction of 73.40%\n",
      "\n",
      "Expanding counts from 22 clusters to 6908 cells.\n",
      "\n"
     ]
    },
    {
     "name": "stdout",
     "output_type": "stream",
     "text": [
      "[1] \"Sample_Fq3\"\n"
     ]
    },
    {
     "name": "stderr",
     "output_type": "stream",
     "text": [
      "10X data contains more than one type and is being returned as a list containing matrices of each type.\n",
      "\n",
      "10X data contains more than one type and is being returned as a list containing matrices of each type.\n",
      "\n",
      "Loading raw count data\n",
      "\n",
      "10X data contains more than one type and is being returned as a list containing matrices of each type.\n",
      "\n",
      "Loading cell-only count data\n",
      "\n",
      "10X data contains more than one type and is being returned as a list containing matrices of each type.\n",
      "\n",
      "Loading extra analysis data where available\n",
      "\n",
      "916 genes passed tf-idf cut-off and 434 soup quantile filter.  Taking the top 100.\n",
      "\n",
      "Using 1217 independent estimates of rho.\n",
      "\n",
      "Estimated global rho of 0.01\n",
      "\n",
      "Expanding counts from 18 clusters to 7336 cells.\n",
      "\n",
      "Extremely high contamination estimated (0.66).  This likely represents a failure in estimating the contamination fraction.  Set forceAccept=TRUE to proceed with this value.\n",
      "\n",
      "Estimated global contamination fraction of 65.67%\n",
      "\n",
      "Expanding counts from 18 clusters to 7336 cells.\n",
      "\n"
     ]
    },
    {
     "name": "stdout",
     "output_type": "stream",
     "text": [
      "[1] \"Sample_Fq4\"\n"
     ]
    },
    {
     "name": "stderr",
     "output_type": "stream",
     "text": [
      "10X data contains more than one type and is being returned as a list containing matrices of each type.\n",
      "\n",
      "10X data contains more than one type and is being returned as a list containing matrices of each type.\n",
      "\n",
      "Loading raw count data\n",
      "\n",
      "10X data contains more than one type and is being returned as a list containing matrices of each type.\n",
      "\n",
      "Loading cell-only count data\n",
      "\n",
      "10X data contains more than one type and is being returned as a list containing matrices of each type.\n",
      "\n",
      "Loading extra analysis data where available\n",
      "\n",
      "321 genes passed tf-idf cut-off and 190 soup quantile filter.  Taking the top 100.\n",
      "\n",
      "Using 1118 independent estimates of rho.\n",
      "\n",
      "Estimated global rho of 0.01\n",
      "\n",
      "Expanding counts from 16 clusters to 7163 cells.\n",
      "\n",
      "Estimated contamination is very high (0.39).\n",
      "\n",
      "Estimated global contamination fraction of 38.59%\n",
      "\n",
      "Expanding counts from 16 clusters to 7163 cells.\n",
      "\n"
     ]
    },
    {
     "name": "stdout",
     "output_type": "stream",
     "text": [
      "[1] \"Sample_Fq5\"\n"
     ]
    },
    {
     "name": "stderr",
     "output_type": "stream",
     "text": [
      "10X data contains more than one type and is being returned as a list containing matrices of each type.\n",
      "\n",
      "10X data contains more than one type and is being returned as a list containing matrices of each type.\n",
      "\n",
      "Loading raw count data\n",
      "\n",
      "10X data contains more than one type and is being returned as a list containing matrices of each type.\n",
      "\n",
      "Loading cell-only count data\n",
      "\n",
      "10X data contains more than one type and is being returned as a list containing matrices of each type.\n",
      "\n",
      "Loading extra analysis data where available\n",
      "\n",
      "354 genes passed tf-idf cut-off and 131 soup quantile filter.  Taking the top 100.\n",
      "\n",
      "Using 1155 independent estimates of rho.\n",
      "\n",
      "Estimated global rho of 0.01\n",
      "\n",
      "Expanding counts from 15 clusters to 4158 cells.\n",
      "\n",
      "Extremely high contamination estimated (0.58).  This likely represents a failure in estimating the contamination fraction.  Set forceAccept=TRUE to proceed with this value.\n",
      "\n",
      "Estimated global contamination fraction of 57.94%\n",
      "\n",
      "Expanding counts from 15 clusters to 4158 cells.\n",
      "\n"
     ]
    },
    {
     "name": "stdout",
     "output_type": "stream",
     "text": [
      "[1] \"Sample_Fq6\"\n"
     ]
    },
    {
     "name": "stderr",
     "output_type": "stream",
     "text": [
      "10X data contains more than one type and is being returned as a list containing matrices of each type.\n",
      "\n",
      "10X data contains more than one type and is being returned as a list containing matrices of each type.\n",
      "\n",
      "Loading raw count data\n",
      "\n",
      "10X data contains more than one type and is being returned as a list containing matrices of each type.\n",
      "\n",
      "Loading cell-only count data\n",
      "\n",
      "10X data contains more than one type and is being returned as a list containing matrices of each type.\n",
      "\n",
      "Loading extra analysis data where available\n",
      "\n",
      "359 genes passed tf-idf cut-off and 189 soup quantile filter.  Taking the top 100.\n",
      "\n",
      "Using 1052 independent estimates of rho.\n",
      "\n",
      "Estimated global rho of 0.01\n",
      "\n",
      "Expanding counts from 15 clusters to 4818 cells.\n",
      "\n",
      "Extremely high contamination estimated (0.76).  This likely represents a failure in estimating the contamination fraction.  Set forceAccept=TRUE to proceed with this value.\n",
      "\n",
      "Estimated global contamination fraction of 75.86%\n",
      "\n",
      "Expanding counts from 15 clusters to 4818 cells.\n",
      "\n"
     ]
    },
    {
     "name": "stdout",
     "output_type": "stream",
     "text": [
      "[1] \"Sample_Fq7\"\n"
     ]
    },
    {
     "name": "stderr",
     "output_type": "stream",
     "text": [
      "10X data contains more than one type and is being returned as a list containing matrices of each type.\n",
      "\n",
      "10X data contains more than one type and is being returned as a list containing matrices of each type.\n",
      "\n",
      "Loading raw count data\n",
      "\n",
      "10X data contains more than one type and is being returned as a list containing matrices of each type.\n",
      "\n",
      "Loading cell-only count data\n",
      "\n",
      "10X data contains more than one type and is being returned as a list containing matrices of each type.\n",
      "\n",
      "Loading extra analysis data where available\n",
      "\n",
      "282 genes passed tf-idf cut-off and 244 soup quantile filter.  Taking the top 100.\n",
      "\n",
      "Using 844 independent estimates of rho.\n",
      "\n",
      "Estimated global rho of 0.01\n",
      "\n",
      "Expanding counts from 11 clusters to 5060 cells.\n",
      "\n",
      "Estimated contamination is very high (0.37).\n",
      "\n",
      "Estimated global contamination fraction of 37.11%\n",
      "\n",
      "Expanding counts from 11 clusters to 5060 cells.\n",
      "\n"
     ]
    },
    {
     "name": "stdout",
     "output_type": "stream",
     "text": [
      "[1] \"Sample_Fq8\"\n"
     ]
    },
    {
     "name": "stderr",
     "output_type": "stream",
     "text": [
      "10X data contains more than one type and is being returned as a list containing matrices of each type.\n",
      "\n",
      "10X data contains more than one type and is being returned as a list containing matrices of each type.\n",
      "\n",
      "Loading raw count data\n",
      "\n",
      "10X data contains more than one type and is being returned as a list containing matrices of each type.\n",
      "\n",
      "Loading cell-only count data\n",
      "\n",
      "10X data contains more than one type and is being returned as a list containing matrices of each type.\n",
      "\n",
      "Loading extra analysis data where available\n",
      "\n",
      "349 genes passed tf-idf cut-off and 271 soup quantile filter.  Taking the top 100.\n",
      "\n",
      "Using 1054 independent estimates of rho.\n",
      "\n",
      "Estimated global rho of 0.01\n",
      "\n",
      "Expanding counts from 14 clusters to 6437 cells.\n",
      "\n",
      "Estimated contamination is very high (0.33).\n",
      "\n",
      "Estimated global contamination fraction of 33.33%\n",
      "\n",
      "Expanding counts from 14 clusters to 6437 cells.\n",
      "\n"
     ]
    },
    {
     "name": "stdout",
     "output_type": "stream",
     "text": [
      "[1] \"Sample_Fq9\"\n"
     ]
    },
    {
     "name": "stderr",
     "output_type": "stream",
     "text": [
      "10X data contains more than one type and is being returned as a list containing matrices of each type.\n",
      "\n",
      "10X data contains more than one type and is being returned as a list containing matrices of each type.\n",
      "\n",
      "Loading raw count data\n",
      "\n",
      "10X data contains more than one type and is being returned as a list containing matrices of each type.\n",
      "\n",
      "Loading cell-only count data\n",
      "\n",
      "10X data contains more than one type and is being returned as a list containing matrices of each type.\n",
      "\n",
      "Loading extra analysis data where available\n",
      "\n",
      "256 genes passed tf-idf cut-off and 154 soup quantile filter.  Taking the top 100.\n",
      "\n",
      "Using 788 independent estimates of rho.\n",
      "\n",
      "Estimated global rho of 0.01\n",
      "\n",
      "Expanding counts from 13 clusters to 5646 cells.\n",
      "\n",
      "Extremely high contamination estimated (0.56).  This likely represents a failure in estimating the contamination fraction.  Set forceAccept=TRUE to proceed with this value.\n",
      "\n",
      "Estimated global contamination fraction of 56.22%\n",
      "\n",
      "Expanding counts from 13 clusters to 5646 cells.\n",
      "\n"
     ]
    },
    {
     "name": "stdout",
     "output_type": "stream",
     "text": [
      "[1] \"Sample_Fq10\"\n"
     ]
    },
    {
     "name": "stderr",
     "output_type": "stream",
     "text": [
      "10X data contains more than one type and is being returned as a list containing matrices of each type.\n",
      "\n",
      "10X data contains more than one type and is being returned as a list containing matrices of each type.\n",
      "\n",
      "Loading raw count data\n",
      "\n",
      "10X data contains more than one type and is being returned as a list containing matrices of each type.\n",
      "\n",
      "Loading cell-only count data\n",
      "\n",
      "10X data contains more than one type and is being returned as a list containing matrices of each type.\n",
      "\n",
      "Loading extra analysis data where available\n",
      "\n",
      "474 genes passed tf-idf cut-off and 271 soup quantile filter.  Taking the top 100.\n",
      "\n",
      "Using 1138 independent estimates of rho.\n",
      "\n",
      "Estimated global rho of 0.01\n",
      "\n",
      "Expanding counts from 16 clusters to 6114 cells.\n",
      "\n",
      "Estimated contamination is very high (0.41).\n",
      "\n",
      "Estimated global contamination fraction of 41.41%\n",
      "\n",
      "Expanding counts from 16 clusters to 6114 cells.\n",
      "\n"
     ]
    },
    {
     "name": "stdout",
     "output_type": "stream",
     "text": [
      "[1] \"Sample_Fq11\"\n"
     ]
    },
    {
     "name": "stderr",
     "output_type": "stream",
     "text": [
      "10X data contains more than one type and is being returned as a list containing matrices of each type.\n",
      "\n",
      "10X data contains more than one type and is being returned as a list containing matrices of each type.\n",
      "\n",
      "Loading raw count data\n",
      "\n",
      "10X data contains more than one type and is being returned as a list containing matrices of each type.\n",
      "\n",
      "Loading cell-only count data\n",
      "\n",
      "10X data contains more than one type and is being returned as a list containing matrices of each type.\n",
      "\n",
      "Loading extra analysis data where available\n",
      "\n",
      "445 genes passed tf-idf cut-off and 246 soup quantile filter.  Taking the top 100.\n",
      "\n",
      "Using 999 independent estimates of rho.\n",
      "\n",
      "Estimated global rho of 0.01\n",
      "\n",
      "Expanding counts from 14 clusters to 7871 cells.\n",
      "\n",
      "Extremely high contamination estimated (0.71).  This likely represents a failure in estimating the contamination fraction.  Set forceAccept=TRUE to proceed with this value.\n",
      "\n",
      "Estimated global contamination fraction of 71.45%\n",
      "\n",
      "Expanding counts from 14 clusters to 7871 cells.\n",
      "\n"
     ]
    },
    {
     "name": "stdout",
     "output_type": "stream",
     "text": [
      "[1] \"Sample_Fq12\"\n"
     ]
    },
    {
     "name": "stderr",
     "output_type": "stream",
     "text": [
      "10X data contains more than one type and is being returned as a list containing matrices of each type.\n",
      "\n",
      "10X data contains more than one type and is being returned as a list containing matrices of each type.\n",
      "\n",
      "Loading raw count data\n",
      "\n",
      "10X data contains more than one type and is being returned as a list containing matrices of each type.\n",
      "\n",
      "Loading cell-only count data\n",
      "\n",
      "10X data contains more than one type and is being returned as a list containing matrices of each type.\n",
      "\n",
      "Loading extra analysis data where available\n",
      "\n",
      "403 genes passed tf-idf cut-off and 177 soup quantile filter.  Taking the top 100.\n",
      "\n",
      "Using 1036 independent estimates of rho.\n",
      "\n",
      "Estimated global rho of 0.01\n",
      "\n",
      "Expanding counts from 15 clusters to 6046 cells.\n",
      "\n",
      "Estimated contamination is very high (0.44).\n",
      "\n",
      "Estimated global contamination fraction of 44.22%\n",
      "\n",
      "Expanding counts from 15 clusters to 6046 cells.\n",
      "\n"
     ]
    },
    {
     "name": "stdout",
     "output_type": "stream",
     "text": [
      "[1] \"Sample_Fq13\"\n"
     ]
    },
    {
     "name": "stderr",
     "output_type": "stream",
     "text": [
      "10X data contains more than one type and is being returned as a list containing matrices of each type.\n",
      "\n",
      "10X data contains more than one type and is being returned as a list containing matrices of each type.\n",
      "\n",
      "Loading raw count data\n",
      "\n",
      "10X data contains more than one type and is being returned as a list containing matrices of each type.\n",
      "\n",
      "Loading cell-only count data\n",
      "\n",
      "10X data contains more than one type and is being returned as a list containing matrices of each type.\n",
      "\n",
      "Loading extra analysis data where available\n",
      "\n",
      "476 genes passed tf-idf cut-off and 255 soup quantile filter.  Taking the top 100.\n",
      "\n",
      "Using 1299 independent estimates of rho.\n",
      "\n",
      "Estimated global rho of 0.01\n",
      "\n",
      "Expanding counts from 17 clusters to 7917 cells.\n",
      "\n",
      "Extremely high contamination estimated (0.87).  This likely represents a failure in estimating the contamination fraction.  Set forceAccept=TRUE to proceed with this value.\n",
      "\n",
      "Estimated global contamination fraction of 86.81%\n",
      "\n",
      "Expanding counts from 17 clusters to 7917 cells.\n",
      "\n"
     ]
    },
    {
     "name": "stdout",
     "output_type": "stream",
     "text": [
      "[1] \"Sample_Fq14\"\n"
     ]
    },
    {
     "name": "stderr",
     "output_type": "stream",
     "text": [
      "10X data contains more than one type and is being returned as a list containing matrices of each type.\n",
      "\n",
      "10X data contains more than one type and is being returned as a list containing matrices of each type.\n",
      "\n",
      "Loading raw count data\n",
      "\n",
      "10X data contains more than one type and is being returned as a list containing matrices of each type.\n",
      "\n",
      "Loading cell-only count data\n",
      "\n",
      "10X data contains more than one type and is being returned as a list containing matrices of each type.\n",
      "\n",
      "Loading extra analysis data where available\n",
      "\n",
      "772 genes passed tf-idf cut-off and 446 soup quantile filter.  Taking the top 100.\n",
      "\n",
      "Using 1440 independent estimates of rho.\n",
      "\n",
      "Estimated global rho of 0.01\n",
      "\n",
      "Expanding counts from 18 clusters to 8264 cells.\n",
      "\n",
      "Extremely high contamination estimated (0.78).  This likely represents a failure in estimating the contamination fraction.  Set forceAccept=TRUE to proceed with this value.\n",
      "\n",
      "Estimated global contamination fraction of 78.24%\n",
      "\n",
      "Expanding counts from 18 clusters to 8264 cells.\n",
      "\n"
     ]
    },
    {
     "name": "stdout",
     "output_type": "stream",
     "text": [
      "[1] \"Sample_Fq16\"\n"
     ]
    },
    {
     "name": "stderr",
     "output_type": "stream",
     "text": [
      "10X data contains more than one type and is being returned as a list containing matrices of each type.\n",
      "\n",
      "10X data contains more than one type and is being returned as a list containing matrices of each type.\n",
      "\n",
      "Loading raw count data\n",
      "\n",
      "10X data contains more than one type and is being returned as a list containing matrices of each type.\n",
      "\n",
      "Loading cell-only count data\n",
      "\n",
      "10X data contains more than one type and is being returned as a list containing matrices of each type.\n",
      "\n",
      "Loading extra analysis data where available\n",
      "\n",
      "353 genes passed tf-idf cut-off and 240 soup quantile filter.  Taking the top 100.\n",
      "\n",
      "Using 933 independent estimates of rho.\n",
      "\n",
      "Estimated global rho of 0.01\n",
      "\n",
      "Expanding counts from 12 clusters to 5524 cells.\n",
      "\n",
      "Extremely high contamination estimated (0.64).  This likely represents a failure in estimating the contamination fraction.  Set forceAccept=TRUE to proceed with this value.\n",
      "\n",
      "Estimated global contamination fraction of 63.63%\n",
      "\n",
      "Expanding counts from 12 clusters to 5524 cells.\n",
      "\n"
     ]
    },
    {
     "name": "stdout",
     "output_type": "stream",
     "text": [
      "[1] \"Sample_Fq17\"\n"
     ]
    },
    {
     "name": "stderr",
     "output_type": "stream",
     "text": [
      "10X data contains more than one type and is being returned as a list containing matrices of each type.\n",
      "\n",
      "10X data contains more than one type and is being returned as a list containing matrices of each type.\n",
      "\n",
      "Loading raw count data\n",
      "\n",
      "10X data contains more than one type and is being returned as a list containing matrices of each type.\n",
      "\n",
      "Loading cell-only count data\n",
      "\n",
      "10X data contains more than one type and is being returned as a list containing matrices of each type.\n",
      "\n",
      "Loading extra analysis data where available\n",
      "\n",
      "706 genes passed tf-idf cut-off and 356 soup quantile filter.  Taking the top 100.\n",
      "\n",
      "Using 1135 independent estimates of rho.\n",
      "\n",
      "Estimated global rho of 0.01\n",
      "\n",
      "Expanding counts from 17 clusters to 5467 cells.\n",
      "\n",
      "Extremely high contamination estimated (0.88).  This likely represents a failure in estimating the contamination fraction.  Set forceAccept=TRUE to proceed with this value.\n",
      "\n",
      "Estimated global contamination fraction of 88.23%\n",
      "\n",
      "Expanding counts from 17 clusters to 5467 cells.\n",
      "\n"
     ]
    },
    {
     "name": "stdout",
     "output_type": "stream",
     "text": [
      "[1] \"Sample_Fq18\"\n"
     ]
    },
    {
     "name": "stderr",
     "output_type": "stream",
     "text": [
      "10X data contains more than one type and is being returned as a list containing matrices of each type.\n",
      "\n",
      "10X data contains more than one type and is being returned as a list containing matrices of each type.\n",
      "\n",
      "Loading raw count data\n",
      "\n",
      "10X data contains more than one type and is being returned as a list containing matrices of each type.\n",
      "\n",
      "Loading cell-only count data\n",
      "\n",
      "10X data contains more than one type and is being returned as a list containing matrices of each type.\n",
      "\n",
      "Loading extra analysis data where available\n",
      "\n",
      "752 genes passed tf-idf cut-off and 291 soup quantile filter.  Taking the top 100.\n",
      "\n",
      "Using 1208 independent estimates of rho.\n",
      "\n",
      "Estimated global rho of 0.01\n",
      "\n",
      "Expanding counts from 18 clusters to 6690 cells.\n",
      "\n",
      "Extremely high contamination estimated (0.79).  This likely represents a failure in estimating the contamination fraction.  Set forceAccept=TRUE to proceed with this value.\n",
      "\n",
      "Estimated global contamination fraction of 79.03%\n",
      "\n",
      "Expanding counts from 18 clusters to 6690 cells.\n",
      "\n"
     ]
    },
    {
     "name": "stdout",
     "output_type": "stream",
     "text": [
      "[1] \"Sample_Fq19\"\n"
     ]
    },
    {
     "name": "stderr",
     "output_type": "stream",
     "text": [
      "10X data contains more than one type and is being returned as a list containing matrices of each type.\n",
      "\n",
      "10X data contains more than one type and is being returned as a list containing matrices of each type.\n",
      "\n",
      "Loading raw count data\n",
      "\n",
      "10X data contains more than one type and is being returned as a list containing matrices of each type.\n",
      "\n",
      "Loading cell-only count data\n",
      "\n",
      "10X data contains more than one type and is being returned as a list containing matrices of each type.\n",
      "\n",
      "Loading extra analysis data where available\n",
      "\n",
      "834 genes passed tf-idf cut-off and 413 soup quantile filter.  Taking the top 100.\n",
      "\n",
      "Using 1492 independent estimates of rho.\n",
      "\n",
      "Estimated global rho of 0.01\n",
      "\n",
      "Expanding counts from 19 clusters to 7554 cells.\n",
      "\n",
      "Extremely high contamination estimated (0.65).  This likely represents a failure in estimating the contamination fraction.  Set forceAccept=TRUE to proceed with this value.\n",
      "\n",
      "Estimated global contamination fraction of 65.47%\n",
      "\n",
      "Expanding counts from 19 clusters to 7554 cells.\n",
      "\n"
     ]
    },
    {
     "name": "stdout",
     "output_type": "stream",
     "text": [
      "[1] \"Sample_Fq20\"\n"
     ]
    },
    {
     "name": "stderr",
     "output_type": "stream",
     "text": [
      "10X data contains more than one type and is being returned as a list containing matrices of each type.\n",
      "\n",
      "10X data contains more than one type and is being returned as a list containing matrices of each type.\n",
      "\n",
      "Loading raw count data\n",
      "\n",
      "10X data contains more than one type and is being returned as a list containing matrices of each type.\n",
      "\n",
      "Loading cell-only count data\n",
      "\n",
      "10X data contains more than one type and is being returned as a list containing matrices of each type.\n",
      "\n",
      "Loading extra analysis data where available\n",
      "\n",
      "604 genes passed tf-idf cut-off and 357 soup quantile filter.  Taking the top 100.\n",
      "\n",
      "Using 1251 independent estimates of rho.\n",
      "\n",
      "Estimated global rho of 0.01\n",
      "\n",
      "Expanding counts from 16 clusters to 6350 cells.\n",
      "\n",
      "Extremely high contamination estimated (0.66).  This likely represents a failure in estimating the contamination fraction.  Set forceAccept=TRUE to proceed with this value.\n",
      "\n",
      "Estimated global contamination fraction of 66.35%\n",
      "\n",
      "Expanding counts from 16 clusters to 6350 cells.\n",
      "\n"
     ]
    },
    {
     "name": "stdout",
     "output_type": "stream",
     "text": [
      "[1] \"Sample_Fq21\"\n"
     ]
    },
    {
     "name": "stderr",
     "output_type": "stream",
     "text": [
      "10X data contains more than one type and is being returned as a list containing matrices of each type.\n",
      "\n",
      "10X data contains more than one type and is being returned as a list containing matrices of each type.\n",
      "\n",
      "Loading raw count data\n",
      "\n",
      "10X data contains more than one type and is being returned as a list containing matrices of each type.\n",
      "\n",
      "Loading cell-only count data\n",
      "\n",
      "10X data contains more than one type and is being returned as a list containing matrices of each type.\n",
      "\n",
      "Loading extra analysis data where available\n",
      "\n",
      "732 genes passed tf-idf cut-off and 421 soup quantile filter.  Taking the top 100.\n",
      "\n",
      "Using 1336 independent estimates of rho.\n",
      "\n",
      "Estimated global rho of 0.01\n",
      "\n",
      "Expanding counts from 16 clusters to 6484 cells.\n",
      "\n",
      "Extremely high contamination estimated (0.81).  This likely represents a failure in estimating the contamination fraction.  Set forceAccept=TRUE to proceed with this value.\n",
      "\n",
      "Estimated global contamination fraction of 80.94%\n",
      "\n",
      "Expanding counts from 16 clusters to 6484 cells.\n",
      "\n"
     ]
    },
    {
     "name": "stdout",
     "output_type": "stream",
     "text": [
      "[1] \"Sample_Fq22\"\n"
     ]
    },
    {
     "name": "stderr",
     "output_type": "stream",
     "text": [
      "10X data contains more than one type and is being returned as a list containing matrices of each type.\n",
      "\n",
      "10X data contains more than one type and is being returned as a list containing matrices of each type.\n",
      "\n",
      "Loading raw count data\n",
      "\n",
      "10X data contains more than one type and is being returned as a list containing matrices of each type.\n",
      "\n",
      "Loading cell-only count data\n",
      "\n",
      "10X data contains more than one type and is being returned as a list containing matrices of each type.\n",
      "\n",
      "Loading extra analysis data where available\n",
      "\n",
      "569 genes passed tf-idf cut-off and 337 soup quantile filter.  Taking the top 100.\n",
      "\n",
      "Using 981 independent estimates of rho.\n",
      "\n",
      "Estimated global rho of 0.01\n",
      "\n",
      "Expanding counts from 14 clusters to 5803 cells.\n",
      "\n",
      "Extremely high contamination estimated (0.74).  This likely represents a failure in estimating the contamination fraction.  Set forceAccept=TRUE to proceed with this value.\n",
      "\n",
      "Estimated global contamination fraction of 74.38%\n",
      "\n",
      "Expanding counts from 14 clusters to 5803 cells.\n",
      "\n"
     ]
    },
    {
     "name": "stdout",
     "output_type": "stream",
     "text": [
      "[1] \"Sample_Fq23\"\n"
     ]
    },
    {
     "name": "stderr",
     "output_type": "stream",
     "text": [
      "10X data contains more than one type and is being returned as a list containing matrices of each type.\n",
      "\n",
      "10X data contains more than one type and is being returned as a list containing matrices of each type.\n",
      "\n",
      "Loading raw count data\n",
      "\n",
      "10X data contains more than one type and is being returned as a list containing matrices of each type.\n",
      "\n",
      "Loading cell-only count data\n",
      "\n",
      "10X data contains more than one type and is being returned as a list containing matrices of each type.\n",
      "\n",
      "Loading extra analysis data where available\n",
      "\n",
      "605 genes passed tf-idf cut-off and 385 soup quantile filter.  Taking the top 100.\n",
      "\n",
      "Using 1116 independent estimates of rho.\n",
      "\n",
      "Estimated global rho of 0.01\n",
      "\n",
      "Expanding counts from 15 clusters to 7650 cells.\n",
      "\n",
      "Extremely high contamination estimated (0.7).  This likely represents a failure in estimating the contamination fraction.  Set forceAccept=TRUE to proceed with this value.\n",
      "\n",
      "Estimated global contamination fraction of 70.49%\n",
      "\n",
      "Expanding counts from 15 clusters to 7650 cells.\n",
      "\n"
     ]
    },
    {
     "name": "stdout",
     "output_type": "stream",
     "text": [
      "[1] \"Sample_Fq24\"\n"
     ]
    },
    {
     "name": "stderr",
     "output_type": "stream",
     "text": [
      "10X data contains more than one type and is being returned as a list containing matrices of each type.\n",
      "\n",
      "10X data contains more than one type and is being returned as a list containing matrices of each type.\n",
      "\n",
      "Loading raw count data\n",
      "\n",
      "10X data contains more than one type and is being returned as a list containing matrices of each type.\n",
      "\n",
      "Loading cell-only count data\n",
      "\n",
      "10X data contains more than one type and is being returned as a list containing matrices of each type.\n",
      "\n",
      "Loading extra analysis data where available\n",
      "\n",
      "704 genes passed tf-idf cut-off and 367 soup quantile filter.  Taking the top 100.\n",
      "\n",
      "Using 1270 independent estimates of rho.\n",
      "\n",
      "Estimated global rho of 0.01\n",
      "\n",
      "Expanding counts from 18 clusters to 9973 cells.\n",
      "\n",
      "Extremely high contamination estimated (0.72).  This likely represents a failure in estimating the contamination fraction.  Set forceAccept=TRUE to proceed with this value.\n",
      "\n",
      "Estimated global contamination fraction of 72.42%\n",
      "\n",
      "Expanding counts from 18 clusters to 9973 cells.\n",
      "\n"
     ]
    },
    {
     "name": "stdout",
     "output_type": "stream",
     "text": [
      "[1] \"Sample_Fq25\"\n"
     ]
    },
    {
     "name": "stderr",
     "output_type": "stream",
     "text": [
      "10X data contains more than one type and is being returned as a list containing matrices of each type.\n",
      "\n",
      "10X data contains more than one type and is being returned as a list containing matrices of each type.\n",
      "\n",
      "Loading raw count data\n",
      "\n",
      "10X data contains more than one type and is being returned as a list containing matrices of each type.\n",
      "\n",
      "Loading cell-only count data\n",
      "\n",
      "10X data contains more than one type and is being returned as a list containing matrices of each type.\n",
      "\n",
      "Loading extra analysis data where available\n",
      "\n",
      "286 genes passed tf-idf cut-off and 161 soup quantile filter.  Taking the top 100.\n",
      "\n",
      "Using 848 independent estimates of rho.\n",
      "\n",
      "Estimated global rho of 0.01\n",
      "\n",
      "Expanding counts from 13 clusters to 9242 cells.\n",
      "\n",
      "Extremely high contamination estimated (0.77).  This likely represents a failure in estimating the contamination fraction.  Set forceAccept=TRUE to proceed with this value.\n",
      "\n",
      "Estimated global contamination fraction of 77.40%\n",
      "\n",
      "Expanding counts from 13 clusters to 9242 cells.\n",
      "\n"
     ]
    },
    {
     "name": "stdout",
     "output_type": "stream",
     "text": [
      "[1] \"Sample_Fq26\"\n"
     ]
    },
    {
     "name": "stderr",
     "output_type": "stream",
     "text": [
      "10X data contains more than one type and is being returned as a list containing matrices of each type.\n",
      "\n",
      "10X data contains more than one type and is being returned as a list containing matrices of each type.\n",
      "\n",
      "Loading raw count data\n",
      "\n",
      "10X data contains more than one type and is being returned as a list containing matrices of each type.\n",
      "\n",
      "Loading cell-only count data\n",
      "\n",
      "10X data contains more than one type and is being returned as a list containing matrices of each type.\n",
      "\n",
      "Loading extra analysis data where available\n",
      "\n",
      "485 genes passed tf-idf cut-off and 283 soup quantile filter.  Taking the top 100.\n",
      "\n",
      "Using 976 independent estimates of rho.\n",
      "\n",
      "Estimated global rho of 0.01\n",
      "\n",
      "Expanding counts from 14 clusters to 8013 cells.\n",
      "\n",
      "Extremely high contamination estimated (0.78).  This likely represents a failure in estimating the contamination fraction.  Set forceAccept=TRUE to proceed with this value.\n",
      "\n",
      "Estimated global contamination fraction of 78.27%\n",
      "\n",
      "Expanding counts from 14 clusters to 8013 cells.\n",
      "\n"
     ]
    },
    {
     "name": "stdout",
     "output_type": "stream",
     "text": [
      "[1] \"Sample_Fq27\"\n"
     ]
    },
    {
     "name": "stderr",
     "output_type": "stream",
     "text": [
      "10X data contains more than one type and is being returned as a list containing matrices of each type.\n",
      "\n",
      "10X data contains more than one type and is being returned as a list containing matrices of each type.\n",
      "\n",
      "Loading raw count data\n",
      "\n",
      "10X data contains more than one type and is being returned as a list containing matrices of each type.\n",
      "\n",
      "Loading cell-only count data\n",
      "\n",
      "10X data contains more than one type and is being returned as a list containing matrices of each type.\n",
      "\n",
      "Loading extra analysis data where available\n",
      "\n",
      "446 genes passed tf-idf cut-off and 259 soup quantile filter.  Taking the top 100.\n",
      "\n",
      "Using 1103 independent estimates of rho.\n",
      "\n",
      "Estimated global rho of 0.01\n",
      "\n",
      "Expanding counts from 16 clusters to 8578 cells.\n",
      "\n",
      "Extremely high contamination estimated (0.72).  This likely represents a failure in estimating the contamination fraction.  Set forceAccept=TRUE to proceed with this value.\n",
      "\n",
      "Estimated global contamination fraction of 72.18%\n",
      "\n",
      "Expanding counts from 16 clusters to 8578 cells.\n",
      "\n"
     ]
    },
    {
     "name": "stdout",
     "output_type": "stream",
     "text": [
      "[1] \"Sample_Fq28\"\n"
     ]
    },
    {
     "name": "stderr",
     "output_type": "stream",
     "text": [
      "10X data contains more than one type and is being returned as a list containing matrices of each type.\n",
      "\n",
      "10X data contains more than one type and is being returned as a list containing matrices of each type.\n",
      "\n",
      "Loading raw count data\n",
      "\n",
      "10X data contains more than one type and is being returned as a list containing matrices of each type.\n",
      "\n",
      "Loading cell-only count data\n",
      "\n",
      "10X data contains more than one type and is being returned as a list containing matrices of each type.\n",
      "\n",
      "Loading extra analysis data where available\n",
      "\n",
      "574 genes passed tf-idf cut-off and 319 soup quantile filter.  Taking the top 100.\n",
      "\n",
      "Using 1213 independent estimates of rho.\n",
      "\n",
      "Estimated global rho of 0.01\n",
      "\n",
      "Expanding counts from 18 clusters to 8475 cells.\n",
      "\n",
      "Extremely high contamination estimated (0.69).  This likely represents a failure in estimating the contamination fraction.  Set forceAccept=TRUE to proceed with this value.\n",
      "\n",
      "Estimated global contamination fraction of 68.59%\n",
      "\n",
      "Expanding counts from 18 clusters to 8475 cells.\n",
      "\n"
     ]
    },
    {
     "name": "stdout",
     "output_type": "stream",
     "text": [
      "[1] \"Sample_Fq29\"\n"
     ]
    },
    {
     "name": "stderr",
     "output_type": "stream",
     "text": [
      "10X data contains more than one type and is being returned as a list containing matrices of each type.\n",
      "\n",
      "10X data contains more than one type and is being returned as a list containing matrices of each type.\n",
      "\n",
      "Loading raw count data\n",
      "\n",
      "10X data contains more than one type and is being returned as a list containing matrices of each type.\n",
      "\n",
      "Loading cell-only count data\n",
      "\n",
      "10X data contains more than one type and is being returned as a list containing matrices of each type.\n",
      "\n",
      "Loading extra analysis data where available\n",
      "\n",
      "595 genes passed tf-idf cut-off and 347 soup quantile filter.  Taking the top 100.\n",
      "\n",
      "Using 1070 independent estimates of rho.\n",
      "\n",
      "Estimated global rho of 0.01\n",
      "\n",
      "Expanding counts from 16 clusters to 8744 cells.\n",
      "\n",
      "Extremely high contamination estimated (0.77).  This likely represents a failure in estimating the contamination fraction.  Set forceAccept=TRUE to proceed with this value.\n",
      "\n",
      "Estimated global contamination fraction of 77.07%\n",
      "\n",
      "Expanding counts from 16 clusters to 8744 cells.\n",
      "\n"
     ]
    },
    {
     "name": "stdout",
     "output_type": "stream",
     "text": [
      "[1] \"Sample_Fq30\"\n"
     ]
    },
    {
     "name": "stderr",
     "output_type": "stream",
     "text": [
      "10X data contains more than one type and is being returned as a list containing matrices of each type.\n",
      "\n",
      "10X data contains more than one type and is being returned as a list containing matrices of each type.\n",
      "\n",
      "Loading raw count data\n",
      "\n",
      "10X data contains more than one type and is being returned as a list containing matrices of each type.\n",
      "\n",
      "Loading cell-only count data\n",
      "\n",
      "10X data contains more than one type and is being returned as a list containing matrices of each type.\n",
      "\n",
      "Loading extra analysis data where available\n",
      "\n",
      "359 genes passed tf-idf cut-off and 238 soup quantile filter.  Taking the top 100.\n",
      "\n",
      "Using 972 independent estimates of rho.\n",
      "\n",
      "Estimated global rho of 0.01\n",
      "\n",
      "Expanding counts from 14 clusters to 14159 cells.\n",
      "\n",
      "Extremely high contamination estimated (0.81).  This likely represents a failure in estimating the contamination fraction.  Set forceAccept=TRUE to proceed with this value.\n",
      "\n",
      "Estimated global contamination fraction of 81.44%\n",
      "\n",
      "Expanding counts from 14 clusters to 14159 cells.\n",
      "\n"
     ]
    },
    {
     "name": "stdout",
     "output_type": "stream",
     "text": [
      "[1] \"Sample_Fq31\"\n"
     ]
    },
    {
     "name": "stderr",
     "output_type": "stream",
     "text": [
      "10X data contains more than one type and is being returned as a list containing matrices of each type.\n",
      "\n",
      "10X data contains more than one type and is being returned as a list containing matrices of each type.\n",
      "\n",
      "Loading raw count data\n",
      "\n",
      "10X data contains more than one type and is being returned as a list containing matrices of each type.\n",
      "\n",
      "Loading cell-only count data\n",
      "\n",
      "10X data contains more than one type and is being returned as a list containing matrices of each type.\n",
      "\n",
      "Loading extra analysis data where available\n",
      "\n",
      "527 genes passed tf-idf cut-off and 328 soup quantile filter.  Taking the top 100.\n",
      "\n",
      "Using 1131 independent estimates of rho.\n",
      "\n",
      "Estimated global rho of 0.01\n",
      "\n",
      "Expanding counts from 14 clusters to 3385 cells.\n",
      "\n",
      "Extremely high contamination estimated (0.61).  This likely represents a failure in estimating the contamination fraction.  Set forceAccept=TRUE to proceed with this value.\n",
      "\n",
      "Estimated global contamination fraction of 61.16%\n",
      "\n",
      "Expanding counts from 14 clusters to 3385 cells.\n",
      "\n"
     ]
    },
    {
     "name": "stdout",
     "output_type": "stream",
     "text": [
      "[1] \"Sample_Fq32\"\n"
     ]
    },
    {
     "name": "stderr",
     "output_type": "stream",
     "text": [
      "10X data contains more than one type and is being returned as a list containing matrices of each type.\n",
      "\n",
      "10X data contains more than one type and is being returned as a list containing matrices of each type.\n",
      "\n",
      "Loading raw count data\n",
      "\n",
      "10X data contains more than one type and is being returned as a list containing matrices of each type.\n",
      "\n",
      "Loading cell-only count data\n",
      "\n",
      "10X data contains more than one type and is being returned as a list containing matrices of each type.\n",
      "\n",
      "Loading extra analysis data where available\n",
      "\n",
      "402 genes passed tf-idf cut-off and 209 soup quantile filter.  Taking the top 100.\n",
      "\n",
      "Using 964 independent estimates of rho.\n",
      "\n",
      "Estimated global rho of 0.01\n",
      "\n",
      "Expanding counts from 15 clusters to 7610 cells.\n",
      "\n",
      "Extremely high contamination estimated (0.74).  This likely represents a failure in estimating the contamination fraction.  Set forceAccept=TRUE to proceed with this value.\n",
      "\n",
      "Estimated global contamination fraction of 74.42%\n",
      "\n",
      "Expanding counts from 15 clusters to 7610 cells.\n",
      "\n"
     ]
    }
   ],
   "source": [
    "for (i in seq_along(files)){\n",
    "        soupx(files[i])\n",
    "}"
   ]
  },
  {
   "cell_type": "code",
   "execution_count": 4,
   "metadata": {},
   "outputs": [],
   "source": [
    "file = 'Sample_Fq15'"
   ]
  },
  {
   "cell_type": "code",
   "execution_count": 6,
   "metadata": {},
   "outputs": [
    {
     "name": "stdout",
     "output_type": "stream",
     "text": [
      "[1] \"Sample_Fq15\"\n"
     ]
    },
    {
     "name": "stderr",
     "output_type": "stream",
     "text": [
      "10X data contains more than one type and is being returned as a list containing matrices of each type.\n",
      "\n",
      "10X data contains more than one type and is being returned as a list containing matrices of each type.\n",
      "\n",
      "Loading raw count data\n",
      "\n",
      "10X data contains more than one type and is being returned as a list containing matrices of each type.\n",
      "\n",
      "Loading cell-only count data\n",
      "\n",
      "10X data contains more than one type and is being returned as a list containing matrices of each type.\n",
      "\n",
      "Loading extra analysis data where available\n",
      "\n",
      "318 genes passed tf-idf cut-off and 185 soup quantile filter.  Taking the top 100.\n",
      "\n",
      "Using 1225 independent estimates of rho.\n",
      "\n",
      "Estimated global rho of 0.01\n",
      "\n",
      "Expanding counts from 18 clusters to 10859 cells.\n",
      "\n",
      "Extremely high contamination estimated (0.76).  This likely represents a failure in estimating the contamination fraction.  Set forceAccept=TRUE to proceed with this value.\n",
      "\n",
      "Estimated global contamination fraction of 76.02%\n",
      "\n",
      "Expanding counts from 18 clusters to 10859 cells.\n",
      "\n"
     ]
    }
   ],
   "source": [
    "soupx(file)"
   ]
  },
  {
   "cell_type": "code",
   "execution_count": null,
   "metadata": {},
   "outputs": [],
   "source": []
  }
 ],
 "metadata": {
  "kernelspec": {
   "display_name": "R",
   "language": "R",
   "name": "ir"
  },
  "language_info": {
   "codemirror_mode": "r",
   "file_extension": ".r",
   "mimetype": "text/x-r-source",
   "name": "R",
   "pygments_lexer": "r",
   "version": "3.6.1"
  }
 },
 "nbformat": 4,
 "nbformat_minor": 4
}
